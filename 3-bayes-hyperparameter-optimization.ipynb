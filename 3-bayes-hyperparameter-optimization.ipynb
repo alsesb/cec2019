{
 "cells": [
  {
   "cell_type": "code",
   "execution_count": 1,
   "metadata": {},
   "outputs": [],
   "source": [
    "from sklearn.datasets import make_classification\n",
    "from sklearn.model_selection import cross_val_score\n",
    "from sklearn.ensemble import RandomForestClassifier as RFC\n",
    "from sklearn.svm import SVC\n",
    "\n",
    "import matplotlib.pyplot as plt\n",
    "\n",
    "from bayes_opt import BayesianOptimization"
   ]
  },
  {
   "cell_type": "code",
   "execution_count": 2,
   "metadata": {},
   "outputs": [],
   "source": [
    "# Load data set and target values\n",
    "data, target = make_classification(\n",
    "    n_samples=1000,\n",
    "    n_features=45,\n",
    "    n_informative=12,\n",
    "    n_redundant=7)"
   ]
  },
  {
   "cell_type": "code",
   "execution_count": 3,
   "metadata": {},
   "outputs": [],
   "source": [
    "def svccv(C, gamma):\n",
    "    val = cross_val_score(\n",
    "        SVC(C=C, gamma=gamma, random_state=2),\n",
    "        X=data, y=target, scoring='f1', cv=2\n",
    "    ).mean()\n",
    "\n",
    "    return val\n",
    "\n",
    "def rfccv(n_estimators, min_samples_split, max_features):\n",
    "    val = cross_val_score(\n",
    "        RFC(n_estimators=int(n_estimators),\n",
    "            min_samples_split=int(min_samples_split),\n",
    "            max_features=min(max_features, 0.999),\n",
    "            random_state=2\n",
    "        ),\n",
    "        X=data, y=target, scoring='f1', cv=2\n",
    "    ).mean()\n",
    "    return val"
   ]
  },
  {
   "cell_type": "code",
   "execution_count": 4,
   "metadata": {},
   "outputs": [
    {
     "name": "stdout",
     "output_type": "stream",
     "text": [
      "|   iter    |  target   |     C     |   gamma   |\n",
      "-------------------------------------------------\n",
      "| \u001b[0m 1       \u001b[0m | \u001b[0m 0.9232  \u001b[0m | \u001b[0m 50.08   \u001b[0m | \u001b[0m 0.01547 \u001b[0m |\n",
      "| \u001b[0m 2       \u001b[0m | \u001b[0m 0.669   \u001b[0m | \u001b[0m 36.3    \u001b[0m | \u001b[0m 0.05698 \u001b[0m |\n",
      "| \u001b[0m 3       \u001b[0m | \u001b[0m 0.016   \u001b[0m | \u001b[0m 22.34   \u001b[0m | \u001b[0m 0.09917 \u001b[0m |\n",
      "| \u001b[0m 4       \u001b[0m | \u001b[0m 0.03556 \u001b[0m | \u001b[0m 61.35   \u001b[0m | \u001b[0m 0.09349 \u001b[0m |\n",
      "| \u001b[95m 5       \u001b[0m | \u001b[95m 0.9253  \u001b[0m | \u001b[95m 20.91   \u001b[0m | \u001b[95m 0.01418 \u001b[0m |\n",
      "| \u001b[0m 6       \u001b[0m | \u001b[0m 0.7461  \u001b[0m | \u001b[0m 94.94   \u001b[0m | \u001b[0m 0.05181 \u001b[0m |\n",
      "| \u001b[0m 7       \u001b[0m | \u001b[0m 0.9232  \u001b[0m | \u001b[0m 50.09   \u001b[0m | \u001b[0m 0.01591 \u001b[0m |\n",
      "| \u001b[0m 8       \u001b[0m | \u001b[0m 0.846   \u001b[0m | \u001b[0m 17.45   \u001b[0m | \u001b[0m 0.0001  \u001b[0m |\n",
      "| \u001b[0m 9       \u001b[0m | \u001b[0m 0.01202 \u001b[0m | \u001b[0m 44.15   \u001b[0m | \u001b[0m 0.1     \u001b[0m |\n",
      "| \u001b[0m 10      \u001b[0m | \u001b[0m 0.4953  \u001b[0m | \u001b[0m 89.12   \u001b[0m | \u001b[0m 0.06598 \u001b[0m |\n",
      "| \u001b[0m 11      \u001b[0m | \u001b[0m 0.8623  \u001b[0m | \u001b[0m 100.0   \u001b[0m | \u001b[0m 0.0001  \u001b[0m |\n",
      "| \u001b[0m 12      \u001b[0m | \u001b[0m 0.9178  \u001b[0m | \u001b[0m 8.043   \u001b[0m | \u001b[0m 0.008106\u001b[0m |\n",
      "| \u001b[0m 13      \u001b[0m | \u001b[0m 0.8519  \u001b[0m | \u001b[0m 2.945   \u001b[0m | \u001b[0m 0.000312\u001b[0m |\n",
      "| \u001b[0m 14      \u001b[0m | \u001b[0m 0.8614  \u001b[0m | \u001b[0m 76.16   \u001b[0m | \u001b[0m 0.0001  \u001b[0m |\n",
      "| \u001b[0m 15      \u001b[0m | \u001b[0m 0.01202 \u001b[0m | \u001b[0m 70.74   \u001b[0m | \u001b[0m 0.1     \u001b[0m |\n",
      "=================================================\n",
      "-----------------------------------------------------\n",
      "|   iter    |  target   | max_fe... | min_sa... | n_esti... |\n",
      "-------------------------------------------------------------\n",
      "| \u001b[0m 1       \u001b[0m | \u001b[0m 0.8617  \u001b[0m | \u001b[0m 0.1299  \u001b[0m | \u001b[0m 11.46   \u001b[0m | \u001b[0m 34.25   \u001b[0m |\n",
      "| \u001b[95m 2       \u001b[0m | \u001b[95m 0.8667  \u001b[0m | \u001b[95m 0.3183  \u001b[0m | \u001b[95m 18.13   \u001b[0m | \u001b[95m 76.35   \u001b[0m |\n",
      "| \u001b[95m 3       \u001b[0m | \u001b[95m 0.8726  \u001b[0m | \u001b[95m 0.6149  \u001b[0m | \u001b[95m 10.62   \u001b[0m | \u001b[95m 206.5   \u001b[0m |\n",
      "| \u001b[0m 4       \u001b[0m | \u001b[0m 0.8659  \u001b[0m | \u001b[0m 0.7179  \u001b[0m | \u001b[0m 14.63   \u001b[0m | \u001b[0m 141.4   \u001b[0m |\n",
      "| \u001b[0m 5       \u001b[0m | \u001b[0m 0.8719  \u001b[0m | \u001b[0m 0.6691  \u001b[0m | \u001b[0m 15.55   \u001b[0m | \u001b[0m 227.6   \u001b[0m |\n",
      "| \u001b[0m 6       \u001b[0m | \u001b[0m 0.8646  \u001b[0m | \u001b[0m 0.9001  \u001b[0m | \u001b[0m 24.7    \u001b[0m | \u001b[0m 249.9   \u001b[0m |\n",
      "| \u001b[95m 7       \u001b[0m | \u001b[95m 0.8762  \u001b[0m | \u001b[95m 0.4044  \u001b[0m | \u001b[95m 2.073   \u001b[0m | \u001b[95m 249.8   \u001b[0m |\n",
      "| \u001b[0m 8       \u001b[0m | \u001b[0m 0.8323  \u001b[0m | \u001b[0m 0.6045  \u001b[0m | \u001b[0m 24.97   \u001b[0m | \u001b[0m 10.23   \u001b[0m |\n",
      "| \u001b[0m 9       \u001b[0m | \u001b[0m 0.8699  \u001b[0m | \u001b[0m 0.9625  \u001b[0m | \u001b[0m 2.004   \u001b[0m | \u001b[0m 90.53   \u001b[0m |\n",
      "| \u001b[0m 10      \u001b[0m | \u001b[0m 0.8627  \u001b[0m | \u001b[0m 0.1081  \u001b[0m | \u001b[0m 2.051   \u001b[0m | \u001b[0m 219.0   \u001b[0m |\n",
      "| \u001b[0m 11      \u001b[0m | \u001b[0m 0.8354  \u001b[0m | \u001b[0m 0.78    \u001b[0m | \u001b[0m 2.255   \u001b[0m | \u001b[0m 10.22   \u001b[0m |\n",
      "| \u001b[0m 12      \u001b[0m | \u001b[0m 0.8683  \u001b[0m | \u001b[0m 0.999   \u001b[0m | \u001b[0m 25.0    \u001b[0m | \u001b[0m 182.3   \u001b[0m |\n",
      "| \u001b[0m 13      \u001b[0m | \u001b[0m 0.8589  \u001b[0m | \u001b[0m 0.9978  \u001b[0m | \u001b[0m 2.286   \u001b[0m | \u001b[0m 58.1    \u001b[0m |\n",
      "| \u001b[0m 14      \u001b[0m | \u001b[0m 0.8608  \u001b[0m | \u001b[0m 0.999   \u001b[0m | \u001b[0m 24.99   \u001b[0m | \u001b[0m 110.9   \u001b[0m |\n",
      "| \u001b[0m 15      \u001b[0m | \u001b[0m 0.8689  \u001b[0m | \u001b[0m 0.1115  \u001b[0m | \u001b[0m 2.27    \u001b[0m | \u001b[0m 121.5   \u001b[0m |\n",
      "=============================================================\n",
      "-----------------------------------------------------\n",
      "Final Results\n",
      "SVC: 0.925345\n",
      "RFC: 0.876158\n",
      "-----------------------------------------------------\n",
      "Best Parameters\n",
      "SVC: {'C': 20.91231466179451, 'gamma': 0.014184723712234403}\n",
      "RFC: {'max_features': 0.40438251805438086, 'min_samples_split': 2.0731582231369434, 'n_estimators': 249.76191054624246}\n"
     ]
    }
   ],
   "source": [
    "svcBO = BayesianOptimization(svccv,\n",
    "    {'C': (0.001, 100), 'gamma': (0.0001, 0.1)})\n",
    "\n",
    "rfcBO = BayesianOptimization(\n",
    "    rfccv,\n",
    "    {'n_estimators': (10, 250),\n",
    "    'min_samples_split': (2, 25),\n",
    "    'max_features': (0.1, 0.999)}\n",
    ")\n",
    "\n",
    "svcBO.maximize(init_points=5, n_iter=10)\n",
    "print('-' * 53)\n",
    "rfcBO.maximize(init_points=5, n_iter=10)\n",
    "\n",
    "print('-' * 53)\n",
    "print('Final Results')\n",
    "print('SVC: %f' % svcBO.max['target'])\n",
    "print('RFC: %f' % rfcBO.max['target'])\n",
    "\n",
    "print('-' * 53)\n",
    "print('Best Parameters')\n",
    "print(f'SVC: {svcBO.max[\"params\"]}')\n",
    "print(f'RFC: {rfcBO.max[\"params\"]}')"
   ]
  }
 ],
 "metadata": {
  "kernelspec": {
   "display_name": "Python 3",
   "language": "python",
   "name": "python3"
  },
  "language_info": {
   "codemirror_mode": {
    "name": "ipython",
    "version": 3
   },
   "file_extension": ".py",
   "mimetype": "text/x-python",
   "name": "python",
   "nbconvert_exporter": "python",
   "pygments_lexer": "ipython3",
   "version": "3.6.7"
  },
  "toc": {
   "base_numbering": 1,
   "nav_menu": {},
   "number_sections": false,
   "sideBar": false,
   "skip_h1_title": false,
   "title_cell": "Table of Contents",
   "title_sidebar": "Contents",
   "toc_cell": false,
   "toc_position": {},
   "toc_section_display": false,
   "toc_window_display": false
  }
 },
 "nbformat": 4,
 "nbformat_minor": 2
}
